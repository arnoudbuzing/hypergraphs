{
 "cells": [
  {
   "cell_type": "code",
   "execution_count": 1,
   "metadata": {},
   "outputs": [],
   "source": [
    "import shutup"
   ]
  },
  {
   "cell_type": "code",
   "execution_count": 2,
   "metadata": {},
   "outputs": [],
   "source": [
    "shutup.mute_warnings()"
   ]
  },
  {
   "cell_type": "code",
   "execution_count": 3,
   "metadata": {},
   "outputs": [],
   "source": [
    "import hypernetx as hnx"
   ]
  },
  {
   "cell_type": "code",
   "execution_count": 4,
   "metadata": {},
   "outputs": [],
   "source": [
    "hg = hnx.Hypergraph( [ {1,2}, {1,2}, {1,2,3} ] )"
   ]
  },
  {
   "cell_type": "code",
   "execution_count": 5,
   "metadata": {},
   "outputs": [],
   "source": [
    "hg = hnx.Hypergraph( {'e1':[1,2], 'e2':[1,2], 'e3':[1,2,3]} )"
   ]
  },
  {
   "cell_type": "code",
   "execution_count": 11,
   "metadata": {},
   "outputs": [
    {
     "data": {
      "text/plain": [
       "array([[0, 1, 1],\n",
       "       [1, 0, 1],\n",
       "       [1, 1, 0]])"
      ]
     },
     "execution_count": 11,
     "metadata": {},
     "output_type": "execute_result"
    }
   ],
   "source": [
    "hg.adjacency_matrix().toarray()"
   ]
  },
  {
   "cell_type": "code",
   "execution_count": 13,
   "metadata": {},
   "outputs": [],
   "source": [
    "d = {\n",
    "    'e1':{\n",
    "        1: {'w':0.5, 'name': 'related_to'},\n",
    "        2: {'w':0.1, 'name': 'related_to', 'startdate': '05.13.2020'}\n",
    "        },\n",
    "     'e2':{ \n",
    "        1: {'w':0.52, 'name': 'owned_by'},\n",
    "        2: {'w':0.2}\n",
    "        },\n",
    "     'e3':{\n",
    "        1: {'w':0.5, 'name': 'related_to'},\n",
    "        2: {'w':0.2, 'name': 'owner_of'},\n",
    "        3: {'w':1, 'type': 'relationship'}\n",
    "        }\n",
    "    }"
   ]
  },
  {
   "cell_type": "code",
   "execution_count": 14,
   "metadata": {},
   "outputs": [],
   "source": [
    "hg = hnx.Hypergraph(d, cell_weight_col='w')"
   ]
  },
  {
   "cell_type": "code",
   "execution_count": 8,
   "metadata": {},
   "outputs": [
    {
     "data": {
      "text/plain": [
       "array([0, 1, 2, 3, 4, 5, 6, 7, 8, 9])"
      ]
     },
     "execution_count": 8,
     "metadata": {},
     "output_type": "execute_result"
    }
   ],
   "source": [
    "import numpy as np\n",
    "\n",
    "np.arange(10)"
   ]
  },
  {
   "cell_type": "code",
   "execution_count": 9,
   "metadata": {},
   "outputs": [
    {
     "data": {
      "text/plain": [
       "array([0, 1, 2, 3, 4, 5, 6, 7, 8, 9])"
      ]
     },
     "execution_count": 9,
     "metadata": {},
     "output_type": "execute_result"
    }
   ],
   "source": [
    "Out[8]"
   ]
  },
  {
   "cell_type": "code",
   "execution_count": 10,
   "metadata": {},
   "outputs": [
    {
     "data": {
      "text/plain": [
       "'import numpy as np\\n\\nnp.arange(10)'"
      ]
     },
     "execution_count": 10,
     "metadata": {},
     "output_type": "execute_result"
    }
   ],
   "source": [
    "In[8]"
   ]
  },
  {
   "cell_type": "code",
   "execution_count": 11,
   "metadata": {},
   "outputs": [
    {
     "name": "stdout",
     "output_type": "stream",
     "text": [
      "import numpy as np\n",
      "\n",
      "np.arange(10)\n"
     ]
    }
   ],
   "source": [
    "print(_)"
   ]
  },
  {
   "cell_type": "code",
   "execution_count": 12,
   "metadata": {},
   "outputs": [
    {
     "data": {
      "text/plain": [
       "'import numpy as np\\n\\nnp.arange(10)'"
      ]
     },
     "execution_count": 12,
     "metadata": {},
     "output_type": "execute_result"
    }
   ],
   "source": [
    "_"
   ]
  },
  {
   "cell_type": "code",
   "execution_count": 13,
   "metadata": {},
   "outputs": [
    {
     "name": "stdout",
     "output_type": "stream",
     "text": [
      "import shutup\n",
      "shutup.mute_warnings()\n",
      "import hypernetx as hnx\n",
      "hg = hnx.Hypergraph( [ {1,2}, {1,2}, {1,2,3} ] )\n",
      "hg = hnx.Hypergraph( {'e1':[1,2], 'e2':[1,2], 'e3':[1,2,3]} )\n",
      "import numpy as np\n",
      "\n",
      "numpy.arange(10)\n",
      "import numpy as np\n",
      "\n",
      "numpy.arange(10)\n",
      "import numpy as np\n",
      "\n",
      "np.arange(10)\n",
      "Out[8]\n",
      "In[8]\n",
      "print(_)\n",
      "_\n",
      "%history\n"
     ]
    }
   ],
   "source": [
    "%history"
   ]
  },
  {
   "cell_type": "code",
   "execution_count": 14,
   "metadata": {},
   "outputs": [
    {
     "name": "stdout",
     "output_type": "stream",
     "text": [
      "Help on built-in function len in module builtins:\n",
      "\n",
      "len(obj, /)\n",
      "    Return the number of items in a container.\n",
      "\n"
     ]
    }
   ],
   "source": [
    "    help(len)"
   ]
  },
  {
   "cell_type": "code",
   "execution_count": 15,
   "metadata": {},
   "outputs": [],
   "source": [
    "import inspect"
   ]
  },
  {
   "cell_type": "code",
   "execution_count": 20,
   "metadata": {},
   "outputs": [
    {
     "data": {
      "text/plain": [
       "[('algorithms',\n",
       "  <module 'hypernetx.algorithms' from '/Users/arnoudb/hypergraphs/.venv/lib/python3.12/site-packages/hypernetx/algorithms/__init__.py'>),\n",
       " ('classes',\n",
       "  <module 'hypernetx.classes' from '/Users/arnoudb/hypergraphs/.venv/lib/python3.12/site-packages/hypernetx/classes/__init__.py'>),\n",
       " ('drawing',\n",
       "  <module 'hypernetx.drawing' from '/Users/arnoudb/hypergraphs/.venv/lib/python3.12/site-packages/hypernetx/drawing/__init__.py'>),\n",
       " ('exception',\n",
       "  <module 'hypernetx.exception' from '/Users/arnoudb/hypergraphs/.venv/lib/python3.12/site-packages/hypernetx/exception.py'>),\n",
       " ('read_write',\n",
       "  <module 'hypernetx.read_write' from '/Users/arnoudb/hypergraphs/.venv/lib/python3.12/site-packages/hypernetx/read_write.py'>),\n",
       " ('reports',\n",
       "  <module 'hypernetx.reports' from '/Users/arnoudb/hypergraphs/.venv/lib/python3.12/site-packages/hypernetx/reports/__init__.py'>),\n",
       " ('utils',\n",
       "  <module 'hypernetx.utils' from '/Users/arnoudb/hypergraphs/.venv/lib/python3.12/site-packages/hypernetx/utils/__init__.py'>)]"
      ]
     },
     "execution_count": 20,
     "metadata": {},
     "output_type": "execute_result"
    }
   ],
   "source": [
    "inspect.getmembers(hnx, inspect.ismodule)"
   ]
  },
  {
   "cell_type": "code",
   "execution_count": 21,
   "metadata": {},
   "outputs": [
    {
     "data": {
      "text/plain": [
       "[('DefaultOrderedDict', hypernetx.utils.extras.DefaultOrderedDict),\n",
       " ('EntitySet', hypernetx.classes.entityset.EntitySet),\n",
       " ('GeneData', hypernetx.utils.toys.gene_data.GeneData),\n",
       " ('HNXCount', hypernetx.utils.extras.HNXCount),\n",
       " ('HarryPotter', hypernetx.utils.toys.harrypotter.HarryPotter),\n",
       " ('HyperNetXError', hypernetx.exception.HyperNetXError),\n",
       " ('HyperNetXException', hypernetx.exception.HyperNetXException),\n",
       " ('HyperNetXNotImplementedError',\n",
       "  hypernetx.exception.HyperNetXNotImplementedError),\n",
       " ('Hypergraph', hypernetx.classes.hypergraph.Hypergraph),\n",
       " ('LesMis', hypernetx.utils.toys.lesmis.LesMis),\n",
       " ('TransmissionProblem',\n",
       "  hypernetx.utils.toys.transmission_problem.TransmissionProblem)]"
      ]
     },
     "execution_count": 21,
     "metadata": {},
     "output_type": "execute_result"
    }
   ],
   "source": [
    "inspect.getmembers(hnx, inspect.isclass)"
   ]
  },
  {
   "cell_type": "code",
   "execution_count": 22,
   "metadata": {},
   "outputs": [
    {
     "data": {
      "text/plain": [
       "[('Gillespie_SIR',\n",
       "  <function hypernetx.algorithms.contagion.Gillespie_SIR(H, tau, gamma, transmission_function=<function threshold at 0x14d11f240>, initial_infecteds=None, initial_recovereds=None, rho=None, tmin=0, tmax=inf, **args)>),\n",
       " ('Gillespie_SIS',\n",
       "  <function hypernetx.algorithms.contagion.Gillespie_SIS(H, tau, gamma, transmission_function=<function threshold at 0x14d11f240>, initial_infecteds=None, rho=None, tmin=0, tmax=inf, return_full_data=False, sim_kwargs=None, **args)>),\n",
       " ('add_to_column',\n",
       "  <function hypernetx.algorithms.homology_mod2.add_to_column(M, i, j)>),\n",
       " ('add_to_row',\n",
       "  <function hypernetx.algorithms.homology_mod2.add_to_row(M, i, j)>),\n",
       " ('betti', <function hypernetx.algorithms.homology_mod2.betti(bd, k=None)>),\n",
       " ('betti_numbers',\n",
       "  <function hypernetx.algorithms.homology_mod2.betti_numbers(h, k=None)>),\n",
       " ('bkMatrix',\n",
       "  <function hypernetx.algorithms.homology_mod2.bkMatrix(km1basis, kbasis)>),\n",
       " ('book_tour',\n",
       "  <function hypernetx.utils.toys.lesmis.book_tour(df, xlabel='Book', ylabel='Volume', s=3.5)>),\n",
       " ('boundary_group',\n",
       "  <function hypernetx.algorithms.homology_mod2.boundary_group(image_basis)>),\n",
       " ('centrality_stats',\n",
       "  <function hypernetx.reports.descriptive_stats.centrality_stats(X)>),\n",
       " ('chain_complex',\n",
       "  <function hypernetx.algorithms.homology_mod2.chain_complex(h, k=None)>),\n",
       " ('chung_lu_hypergraph',\n",
       "  <function hypernetx.algorithms.generative_models.chung_lu_hypergraph(k1, k2)>),\n",
       " ('collective_contagion',\n",
       "  <function hypernetx.algorithms.contagion.collective_contagion(node, status, edge)>),\n",
       " ('comp_dist',\n",
       "  <function hypernetx.reports.descriptive_stats.comp_dist(H, aggregated=False)>),\n",
       " ('contagion_animation',\n",
       "  <function hypernetx.algorithms.contagion.contagion_animation(fig, H, transition_events, node_state_color_dict, edge_state_color_dict, node_radius=1, fps=1)>),\n",
       " ('create_labels',\n",
       "  <function hypernetx.utils.extras.create_labels(num_edges, num_nodes, edgeprefix='e', nodeprefix='v', edgelabel='Edges', nodelabel='Nodes')>),\n",
       " ('dcsbm_hypergraph',\n",
       "  <function hypernetx.algorithms.generative_models.dcsbm_hypergraph(k1, k2, g1, g2, omega)>),\n",
       " ('degree_dist',\n",
       "  <function hypernetx.reports.descriptive_stats.degree_dist(H, aggregated=False)>),\n",
       " ('dict2part',\n",
       "  <function hypernetx.algorithms.hypergraph_modularity.dict2part(D)>),\n",
       " ('discrete_SIR',\n",
       "  <function hypernetx.algorithms.contagion.discrete_SIR(H, tau, gamma, transmission_function=<function threshold at 0x14d11f240>, initial_infecteds=None, initial_recovereds=None, rho=None, tmin=0, tmax=inf, dt=1.0, return_full_data=False, **args)>),\n",
       " ('discrete_SIS',\n",
       "  <function hypernetx.algorithms.contagion.discrete_SIS(H, tau, gamma, transmission_function=<function threshold at 0x14d11f240>, initial_infecteds=None, rho=None, tmin=0, tmax=100, dt=1.0, return_full_data=False, **args)>),\n",
       " ('dist_stats', <function hypernetx.reports.descriptive_stats.dist_stats(H)>),\n",
       " ('draw',\n",
       "  <function hypernetx.drawing.rubber_band.draw(H, pos=None, with_color=True, with_node_counts=False, with_edge_counts=False, layout=<function spring_layout at 0x1222e36a0>, layout_kwargs={}, ax=None, node_radius=None, edges_kwargs={}, nodes_kwargs={}, edge_labels_on_edge=True, edge_labels={}, edge_labels_kwargs={}, node_labels={}, node_labels_kwargs={}, with_edge_labels=True, with_node_labels=True, node_label_alpha=0.35, edge_label_alpha=0.35, with_additional_edges=None, additional_edges_kwargs={}, return_pos=False)>),\n",
       " ('draw_two_column',\n",
       "  <function hypernetx.drawing.two_column.draw(H, with_node_labels=True, with_edge_labels=True, with_node_counts=False, with_edge_counts=False, with_color=True, edge_kwargs=None, ax=None)>),\n",
       " ('edge_size_dist',\n",
       "  <function hypernetx.reports.descriptive_stats.edge_size_dist(H, aggregated=False)>),\n",
       " ('erdos_renyi_hypergraph',\n",
       "  <function hypernetx.algorithms.generative_models.erdos_renyi_hypergraph(n, m, p, node_labels=None, edge_labels=None)>),\n",
       " ('get_pi', <function hypernetx.algorithms.laplacians_clustering.get_pi(P)>),\n",
       " ('homology_basis',\n",
       "  <function hypernetx.algorithms.homology_mod2.homology_basis(bd, k=None, boundary=False, **kwargs)>),\n",
       " ('hypergraph_homology_basis',\n",
       "  <function hypernetx.algorithms.homology_mod2.hypergraph_homology_basis(h, k=None, shortest=False, interpreted=True)>),\n",
       " ('individual_contagion',\n",
       "  <function hypernetx.algorithms.contagion.individual_contagion(node, status, edge)>),\n",
       " ('info',\n",
       "  <function hypernetx.reports.descriptive_stats.info(H, node=None, edge=None)>),\n",
       " ('info_dict',\n",
       "  <function hypernetx.reports.descriptive_stats.info_dict(H, node=None, edge=None)>),\n",
       " ('interpret',\n",
       "  <function hypernetx.algorithms.homology_mod2.interpret(Ck, arr, labels=None)>),\n",
       " ('kchainbasis',\n",
       "  <function hypernetx.algorithms.homology_mod2.kchainbasis(h, k)>),\n",
       " ('kumar',\n",
       "  <function hypernetx.algorithms.hypergraph_modularity.kumar(HG, delta=0.01, verbose=False)>),\n",
       " ('last_step',\n",
       "  <function hypernetx.algorithms.hypergraph_modularity.last_step(HG, A, wdc=<function linear at 0x176f053a0>, delta=0.01, verbose=False)>),\n",
       " ('lesmis_hypergraph_from_df',\n",
       "  <function hypernetx.utils.toys.lesmis.lesmis_hypergraph_from_df(df, by='Chapter', on='Characters')>),\n",
       " ('linear',\n",
       "  <function hypernetx.algorithms.hypergraph_modularity.linear(d, c)>),\n",
       " ('load_from_pickle',\n",
       "  <function hypernetx.read_write.load_from_pickle(filepath)>),\n",
       " ('logical_dot',\n",
       "  <function hypernetx.algorithms.homology_mod2.logical_dot(ar1, ar2)>),\n",
       " ('logical_matadd',\n",
       "  <function hypernetx.algorithms.homology_mod2.logical_matadd(mat1, mat2)>),\n",
       " ('logical_matmul',\n",
       "  <function hypernetx.algorithms.homology_mod2.logical_matmul(mat1, mat2)>),\n",
       " ('majority',\n",
       "  <function hypernetx.algorithms.hypergraph_modularity.majority(d, c)>),\n",
       " ('majority_vote',\n",
       "  <function hypernetx.algorithms.contagion.majority_vote(node, status, edge)>),\n",
       " ('matmulreduce',\n",
       "  <function hypernetx.algorithms.homology_mod2.matmulreduce(arr, reverse=False)>),\n",
       " ('modularity',\n",
       "  <function hypernetx.algorithms.hypergraph_modularity.modularity(HG, A, wdc=<function linear at 0x176f053a0>)>),\n",
       " ('norm_lap',\n",
       "  <function hypernetx.algorithms.laplacians_clustering.norm_lap(H, weights=False, index=True)>),\n",
       " ('not_implemented_for',\n",
       "  <function hypernetx.utils.decorators.not_implemented_for(*object_types)>),\n",
       " ('part2dict',\n",
       "  <function hypernetx.algorithms.hypergraph_modularity.part2dict(A)>),\n",
       " ('prob_trans',\n",
       "  <function hypernetx.algorithms.laplacians_clustering.prob_trans(H, weights=False, index=True, check_connected=True)>),\n",
       " ('reduced_row_echelon_form_mod2',\n",
       "  <function hypernetx.algorithms.homology_mod2.reduced_row_echelon_form_mod2(M)>),\n",
       " ('remove_row_duplicates',\n",
       "  <function hypernetx.utils.extras.remove_row_duplicates(data, weights=None, aggregateby='sum')>),\n",
       " ('reverse_dictionary',\n",
       "  <function hypernetx.utils.extras.reverse_dictionary(d)>),\n",
       " ('s_betweenness_centrality',\n",
       "  <function hypernetx.algorithms.s_centrality_measures.s_betweenness_centrality(H, s=1, edges=True, normalized=True, return_singletons=True)>),\n",
       " ('s_closeness_centrality',\n",
       "  <function hypernetx.algorithms.s_centrality_measures.s_closeness_centrality(H, s=1, edges=True, return_singletons=True, source=None)>),\n",
       " ('s_comp_dist',\n",
       "  <function hypernetx.reports.descriptive_stats.s_comp_dist(H, s=1, aggregated=False, edges=True, return_singletons=True)>),\n",
       " ('s_eccentricity',\n",
       "  <function hypernetx.algorithms.s_centrality_measures.s_eccentricity(H, s=1, edges=True, source=None, return_singletons=True)>),\n",
       " ('s_edge_diameter_dist',\n",
       "  <function hypernetx.reports.descriptive_stats.s_edge_diameter_dist(H)>),\n",
       " ('s_harmonic_centrality',\n",
       "  <function hypernetx.algorithms.s_centrality_measures.s_harmonic_centrality(H, s=1, edges=True, source=None, normalized=False, return_singletons=True)>),\n",
       " ('s_harmonic_closeness_centrality',\n",
       "  <function hypernetx.algorithms.s_centrality_measures.s_harmonic_closeness_centrality(H, s=1, edge=None)>),\n",
       " ('s_node_diameter_dist',\n",
       "  <function hypernetx.reports.descriptive_stats.s_node_diameter_dist(H)>),\n",
       " ('smith_normal_form_mod2',\n",
       "  <function hypernetx.algorithms.homology_mod2.smith_normal_form_mod2(M)>),\n",
       " ('spec_clus',\n",
       "  <function hypernetx.algorithms.laplacians_clustering.spec_clus(H, k, existing_lap=None, weights=False)>),\n",
       " ('strict',\n",
       "  <function hypernetx.algorithms.hypergraph_modularity.strict(d, c)>),\n",
       " ('swap_columns',\n",
       "  <function hypernetx.algorithms.homology_mod2.swap_columns(i, j, *args)>),\n",
       " ('swap_rows',\n",
       "  <function hypernetx.algorithms.homology_mod2.swap_rows(i, j, *args)>),\n",
       " ('threshold',\n",
       "  <function hypernetx.algorithms.contagion.threshold(node, status, edge, tau=0.1)>),\n",
       " ('to_pickle', <function hypernetx.read_write.to_pickle(obj, filename)>),\n",
       " ('toplex_dist',\n",
       "  <function hypernetx.reports.descriptive_stats.toplex_dist(H, aggregated=False)>),\n",
       " ('two_section',\n",
       "  <function hypernetx.algorithms.hypergraph_modularity.two_section(HG)>)]"
      ]
     },
     "execution_count": 22,
     "metadata": {},
     "output_type": "execute_result"
    }
   ],
   "source": [
    "inspect.getmembers(hnx, inspect.isfunction)"
   ]
  },
  {
   "cell_type": "code",
   "execution_count": 24,
   "metadata": {},
   "outputs": [
    {
     "data": {
      "text/plain": [
       "[('from_bipartite',\n",
       "  <bound method Hypergraph.from_bipartite of <class 'hypernetx.classes.hypergraph.Hypergraph'>>),\n",
       " ('from_incidence_dataframe',\n",
       "  <bound method Hypergraph.from_incidence_dataframe of <class 'hypernetx.classes.hypergraph.Hypergraph'>>),\n",
       " ('from_incidence_matrix',\n",
       "  <bound method Hypergraph.from_incidence_matrix of <class 'hypernetx.classes.hypergraph.Hypergraph'>>),\n",
       " ('from_numpy_array',\n",
       "  <bound method Hypergraph.from_numpy_array of <class 'hypernetx.classes.hypergraph.Hypergraph'>>)]"
      ]
     },
     "execution_count": 24,
     "metadata": {},
     "output_type": "execute_result"
    }
   ],
   "source": [
    "inspect.getmembers(hnx.Hypergraph, inspect.ismethod)"
   ]
  },
  {
   "cell_type": "code",
   "execution_count": 26,
   "metadata": {},
   "outputs": [
    {
     "data": {
      "text/plain": [
       "[('__contains__',\n",
       "  <function hypernetx.classes.hypergraph.Hypergraph.__contains__(self, item)>),\n",
       " ('__getitem__',\n",
       "  <function hypernetx.classes.hypergraph.Hypergraph.__getitem__(self, node)>),\n",
       " ('__init__',\n",
       "  <function hypernetx.classes.hypergraph.Hypergraph.__init__(self, setsystem: 'Optional[pd.DataFrame | np.ndarray | Mapping[T, Iterable[T]] | Iterable[Iterable[T]] | Mapping[T, Mapping[T, Mapping[str, Any]]]]' = None, edge_col: 'str | int' = 0, node_col: 'str | int' = 1, cell_weight_col: 'Optional[str | int]' = 'cell_weights', cell_weights: 'Sequence[float] | float' = 1.0, cell_properties: 'Optional[Sequence[str | int] | Mapping[T, Mapping[T, Mapping[str, Any]]]]' = None, misc_cell_properties_col: 'Optional[str | int]' = None, aggregateby: 'str | dict[str, str]' = 'first', edge_properties: 'Optional[pd.DataFrame | dict[T, dict[Any, Any]]]' = None, node_properties: 'Optional[pd.DataFrame | dict[T, dict[Any, Any]]]' = None, properties: 'Optional[pd.DataFrame | dict[T, dict[Any, Any]] | dict[T, dict[T, dict[Any, Any]]]]' = None, misc_properties_col: 'Optional[str | int]' = None, edge_weight_prop_col: 'str | int' = 'weight', node_weight_prop_col: 'str | int' = 'weight', weight_prop_col: 'str | int' = 'weight', default_edge_weight: 'Optional[float | None]' = None, default_node_weight: 'Optional[float | None]' = None, default_weight: 'float' = 1.0, name: 'Optional[str]' = None, **kwargs)>),\n",
       " ('__iter__',\n",
       "  <function hypernetx.classes.hypergraph.Hypergraph.__iter__(self)>),\n",
       " ('__len__', <function hypernetx.classes.hypergraph.Hypergraph.__len__(self)>),\n",
       " ('__repr__',\n",
       "  <function hypernetx.classes.hypergraph.Hypergraph.__repr__(self)>),\n",
       " ('__str__', <function hypernetx.classes.hypergraph.Hypergraph.__str__(self)>),\n",
       " ('_set_default_state',\n",
       "  <function hypernetx.classes.hypergraph.Hypergraph._set_default_state(self, empty=False)>),\n",
       " ('adjacency_matrix',\n",
       "  <function hypernetx.classes.hypergraph.Hypergraph.adjacency_matrix(self, s=1, index=False, remove_empty_rows=False)>),\n",
       " ('auxiliary_matrix',\n",
       "  <function hypernetx.classes.hypergraph.Hypergraph.auxiliary_matrix(self, s=1, node=True, index=False)>),\n",
       " ('bipartite',\n",
       "  <function hypernetx.classes.hypergraph.Hypergraph.bipartite(self)>),\n",
       " ('collapse_edges',\n",
       "  <function hypernetx.classes.hypergraph.Hypergraph.collapse_edges(self, name=None, return_equivalence_classes=False, use_reps=None, return_counts=None)>),\n",
       " ('collapse_nodes',\n",
       "  <function hypernetx.classes.hypergraph.Hypergraph.collapse_nodes(self, name=None, return_equivalence_classes=False, use_reps=None, return_counts=None) -> 'Hypergraph'>),\n",
       " ('collapse_nodes_and_edges',\n",
       "  <function hypernetx.classes.hypergraph.Hypergraph.collapse_nodes_and_edges(self, name=None, return_equivalence_classes=False, use_reps=None, return_counts=None)>),\n",
       " ('component_subgraphs',\n",
       "  <function hypernetx.classes.hypergraph.Hypergraph.component_subgraphs(self, return_singletons=False, name=None)>),\n",
       " ('components',\n",
       "  <function hypernetx.classes.hypergraph.Hypergraph.components(self, edges=False)>),\n",
       " ('connected_component_subgraphs',\n",
       "  <function hypernetx.classes.hypergraph.Hypergraph.connected_component_subgraphs(self, return_singletons=True, name=None)>),\n",
       " ('connected_components',\n",
       "  <function hypernetx.classes.hypergraph.Hypergraph.connected_components(self, edges=False)>),\n",
       " ('degree',\n",
       "  <function hypernetx.classes.hypergraph.Hypergraph.degree(self, node, s=1, max_size=None)>),\n",
       " ('diameter',\n",
       "  <function hypernetx.classes.hypergraph.Hypergraph.diameter(self, s=1)>),\n",
       " ('dim', <function hypernetx.classes.hypergraph.Hypergraph.dim(self, edge)>),\n",
       " ('distance',\n",
       "  <function hypernetx.classes.hypergraph.Hypergraph.distance(self, source, target, s=1)>),\n",
       " ('dual',\n",
       "  <function hypernetx.classes.hypergraph.Hypergraph.dual(self, name=None, switch_names=True)>),\n",
       " ('edge_adjacency_matrix',\n",
       "  <function hypernetx.classes.hypergraph.Hypergraph.edge_adjacency_matrix(self, s=1, index=False)>),\n",
       " ('edge_diameter',\n",
       "  <function hypernetx.classes.hypergraph.Hypergraph.edge_diameter(self, s=1)>),\n",
       " ('edge_diameters',\n",
       "  <function hypernetx.classes.hypergraph.Hypergraph.edge_diameters(self, s=1)>),\n",
       " ('edge_distance',\n",
       "  <function hypernetx.classes.hypergraph.Hypergraph.edge_distance(self, source, target, s=1)>),\n",
       " ('edge_neighbors',\n",
       "  <function hypernetx.classes.hypergraph.Hypergraph.edge_neighbors(self, edge, s=1)>),\n",
       " ('edge_size_dist',\n",
       "  <function hypernetx.classes.hypergraph.Hypergraph.edge_size_dist(self)>),\n",
       " ('get_cell_properties',\n",
       "  <function hypernetx.classes.hypergraph.Hypergraph.get_cell_properties(self, edge: 'str', node: 'str', prop_name: 'Optional[str]' = None) -> 'Any | dict[str, Any]'>),\n",
       " ('get_linegraph',\n",
       "  <function hypernetx.classes.hypergraph.Hypergraph.get_linegraph(self, s=1, edges=True)>),\n",
       " ('get_properties',\n",
       "  <function hypernetx.classes.hypergraph.Hypergraph.get_properties(self, id, level=None, prop_name=None)>),\n",
       " ('incidence_dataframe',\n",
       "  <function hypernetx.classes.hypergraph.Hypergraph.incidence_dataframe(self, sort_rows=False, sort_columns=False, cell_weights=True)>),\n",
       " ('incidence_matrix',\n",
       "  <function hypernetx.classes.hypergraph.Hypergraph.incidence_matrix(self, weights=False, index=False)>),\n",
       " ('is_connected',\n",
       "  <function hypernetx.classes.hypergraph.Hypergraph.is_connected(self, s=1, edges=False)>),\n",
       " ('neighbors',\n",
       "  <function hypernetx.classes.hypergraph.Hypergraph.neighbors(self, node, s=1)>),\n",
       " ('node_diameters',\n",
       "  <function hypernetx.classes.hypergraph.Hypergraph.node_diameters(self, s=1)>),\n",
       " ('number_of_edges',\n",
       "  <function hypernetx.classes.hypergraph.Hypergraph.number_of_edges(self, edgeset=None)>),\n",
       " ('number_of_nodes',\n",
       "  <function hypernetx.classes.hypergraph.Hypergraph.number_of_nodes(self, nodeset=None)>),\n",
       " ('order', <function hypernetx.classes.hypergraph.Hypergraph.order(self)>),\n",
       " ('remove',\n",
       "  <function hypernetx.classes.hypergraph.Hypergraph.remove(self, keys, level=None, name=None)>),\n",
       " ('remove_edges',\n",
       "  <function hypernetx.classes.hypergraph.Hypergraph.remove_edges(self, keys, name=None)>),\n",
       " ('remove_nodes',\n",
       "  <function hypernetx.classes.hypergraph.Hypergraph.remove_nodes(self, keys, name=None)>),\n",
       " ('remove_singletons',\n",
       "  <function hypernetx.classes.hypergraph.Hypergraph.remove_singletons(self, name=None)>),\n",
       " ('restrict_to_edges',\n",
       "  <function hypernetx.classes.hypergraph.Hypergraph.restrict_to_edges(self, edges, name=None)>),\n",
       " ('restrict_to_nodes',\n",
       "  <function hypernetx.classes.hypergraph.Hypergraph.restrict_to_nodes(self, nodes, name=None)>),\n",
       " ('s_component_subgraphs',\n",
       "  <function hypernetx.classes.hypergraph.Hypergraph.s_component_subgraphs(self, s=1, edges=True, return_singletons=False, name=None)>),\n",
       " ('s_components',\n",
       "  <function hypernetx.classes.hypergraph.Hypergraph.s_components(self, s=1, edges=True, return_singletons=True)>),\n",
       " ('s_connected_components',\n",
       "  <function hypernetx.classes.hypergraph.Hypergraph.s_connected_components(self, s=1, edges=True, return_singletons=False)>),\n",
       " ('set_state',\n",
       "  <function hypernetx.classes.hypergraph.Hypergraph.set_state(self, **kwargs)>),\n",
       " ('singletons',\n",
       "  <function hypernetx.classes.hypergraph.Hypergraph.singletons(self)>),\n",
       " ('size',\n",
       "  <function hypernetx.classes.hypergraph.Hypergraph.size(self, edge, nodeset=None)>),\n",
       " ('toplexes',\n",
       "  <function hypernetx.classes.hypergraph.Hypergraph.toplexes(self, name=None)>)]"
      ]
     },
     "execution_count": 26,
     "metadata": {},
     "output_type": "execute_result"
    }
   ],
   "source": [
    "inspect.getmembers(hnx.Hypergraph, inspect.is)"
   ]
  },
  {
   "cell_type": "code",
   "execution_count": 29,
   "metadata": {},
   "outputs": [],
   "source": [
    "classes = inspect.getmembers(hnx, inspect.isclass)"
   ]
  },
  {
   "cell_type": "code",
   "execution_count": 48,
   "metadata": {},
   "outputs": [
    {
     "data": {
      "text/plain": [
       "[('DefaultOrderedDict', hypernetx.utils.extras.DefaultOrderedDict),\n",
       " ('EntitySet', hypernetx.classes.entityset.EntitySet),\n",
       " ('GeneData', hypernetx.utils.toys.gene_data.GeneData),\n",
       " ('HNXCount', hypernetx.utils.extras.HNXCount),\n",
       " ('HarryPotter', hypernetx.utils.toys.harrypotter.HarryPotter),\n",
       " ('HyperNetXError', hypernetx.exception.HyperNetXError),\n",
       " ('HyperNetXException', hypernetx.exception.HyperNetXException),\n",
       " ('HyperNetXNotImplementedError',\n",
       "  hypernetx.exception.HyperNetXNotImplementedError),\n",
       " ('Hypergraph', hypernetx.classes.hypergraph.Hypergraph),\n",
       " ('LesMis', hypernetx.utils.toys.lesmis.LesMis),\n",
       " ('TransmissionProblem',\n",
       "  hypernetx.utils.toys.transmission_problem.TransmissionProblem)]"
      ]
     },
     "execution_count": 48,
     "metadata": {},
     "output_type": "execute_result"
    }
   ],
   "source": [
    "classes"
   ]
  },
  {
   "cell_type": "code",
   "execution_count": 53,
   "metadata": {},
   "outputs": [
    {
     "data": {
      "text/plain": [
       "[]"
      ]
     },
     "execution_count": 53,
     "metadata": {},
     "output_type": "execute_result"
    }
   ],
   "source": [
    "[ c for c in classes if c == 'Hypergraph' ]"
   ]
  },
  {
   "cell_type": "code",
   "execution_count": null,
   "metadata": {},
   "outputs": [],
   "source": [
    "ins"
   ]
  }
 ],
 "metadata": {
  "kernelspec": {
   "display_name": ".venv",
   "language": "python",
   "name": "python3"
  },
  "language_info": {
   "codemirror_mode": {
    "name": "ipython",
    "version": 3
   },
   "file_extension": ".py",
   "mimetype": "text/x-python",
   "name": "python",
   "nbconvert_exporter": "python",
   "pygments_lexer": "ipython3",
   "version": "3.12.3"
  }
 },
 "nbformat": 4,
 "nbformat_minor": 2
}
