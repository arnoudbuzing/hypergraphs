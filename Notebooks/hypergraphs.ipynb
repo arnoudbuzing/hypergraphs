{
 "cells": [
  {
   "cell_type": "code",
   "execution_count": 3,
   "metadata": {},
   "outputs": [],
   "source": [
    "import shutup"
   ]
  },
  {
   "cell_type": "code",
   "execution_count": 4,
   "metadata": {},
   "outputs": [],
   "source": [
    "shutup.mute_warnings()"
   ]
  },
  {
   "cell_type": "code",
   "execution_count": 1,
   "metadata": {},
   "outputs": [],
   "source": [
    "import hypernetx as hnx"
   ]
  },
  {
   "cell_type": "code",
   "execution_count": 5,
   "metadata": {},
   "outputs": [],
   "source": [
    "hg = hnx.Hypergraph( [ {1,2}, {1,2}, {1,2,3} ] )"
   ]
  },
  {
   "cell_type": "code",
   "execution_count": 10,
   "metadata": {},
   "outputs": [],
   "source": [
    "hg = hnx.Hypergraph( {'e1':[1,2], 'e2':[1,2], 'e3':[1,2,3]} )"
   ]
  },
  {
   "cell_type": "code",
   "execution_count": 11,
   "metadata": {},
   "outputs": [
    {
     "data": {
      "text/plain": [
       "array([[0, 1, 1],\n",
       "       [1, 0, 1],\n",
       "       [1, 1, 0]])"
      ]
     },
     "execution_count": 11,
     "metadata": {},
     "output_type": "execute_result"
    }
   ],
   "source": [
    "hg.adjacency_matrix().toarray()"
   ]
  },
  {
   "cell_type": "code",
   "execution_count": 13,
   "metadata": {},
   "outputs": [],
   "source": [
    "d = {\n",
    "    'e1':{\n",
    "        1: {'w':0.5, 'name': 'related_to'},\n",
    "        2: {'w':0.1, 'name': 'related_to', 'startdate': '05.13.2020'}\n",
    "        },\n",
    "     'e2':{ \n",
    "        1: {'w':0.52, 'name': 'owned_by'},\n",
    "        2: {'w':0.2}\n",
    "        },\n",
    "     'e3':{\n",
    "        1: {'w':0.5, 'name': 'related_to'},\n",
    "        2: {'w':0.2, 'name': 'owner_of'},\n",
    "        3: {'w':1, 'type': 'relationship'}\n",
    "        }\n",
    "    }"
   ]
  },
  {
   "cell_type": "code",
   "execution_count": 14,
   "metadata": {},
   "outputs": [],
   "source": [
    "hg = hnx.Hypergraph(d, cell_weight_col='w')"
   ]
  },
  {
   "cell_type": "code",
   "execution_count": null,
   "metadata": {},
   "outputs": [],
   "source": []
  }
 ],
 "metadata": {
  "kernelspec": {
   "display_name": ".venv",
   "language": "python",
   "name": "python3"
  },
  "language_info": {
   "codemirror_mode": {
    "name": "ipython",
    "version": 3
   },
   "file_extension": ".py",
   "mimetype": "text/x-python",
   "name": "python",
   "nbconvert_exporter": "python",
   "pygments_lexer": "ipython3",
   "version": "3.12.3"
  }
 },
 "nbformat": 4,
 "nbformat_minor": 2
}
